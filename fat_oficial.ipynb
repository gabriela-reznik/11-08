{
 "cells": [
  {
   "cell_type": "code",
   "execution_count": null,
   "id": "423e3c87-41d0-4eae-b2a4-a4a7e95e6eb5",
   "metadata": {},
   "outputs": [],
   "source": [
    "def fat(n):\n",
    "    \n",
    "    if n==1:\n",
    "        return 1;\n",
    "    else:\n",
    "        return n*fat(n-1)\n"
   ]
  },
  {
   "cell_type": "code",
   "execution_count": null,
   "id": "b3a2b61e-6095-4a4a-8287-1dbc5436904d",
   "metadata": {},
   "outputs": [],
   "source": [
    "fat(3)"
   ]
  }
 ],
 "metadata": {
  "kernelspec": {
   "display_name": "Python 3 (ipykernel)",
   "language": "python",
   "name": "python3"
  },
  "language_info": {
   "codemirror_mode": {
    "name": "ipython",
    "version": 3
   },
   "file_extension": ".py",
   "mimetype": "text/x-python",
   "name": "python",
   "nbconvert_exporter": "python",
   "pygments_lexer": "ipython3",
   "version": "3.9.12"
  }
 },
 "nbformat": 4,
 "nbformat_minor": 5
}
